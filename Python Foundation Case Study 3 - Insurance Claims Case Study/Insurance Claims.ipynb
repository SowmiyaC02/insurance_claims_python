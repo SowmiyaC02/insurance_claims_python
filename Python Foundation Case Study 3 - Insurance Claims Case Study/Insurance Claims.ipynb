{
 "cells": [
  {
   "cell_type": "code",
   "execution_count": 1,
   "id": "89deaa96",
   "metadata": {},
   "outputs": [],
   "source": [
    "import numpy as np\n",
    "import pandas as pd\n",
    "import seaborn as sns\n",
    "import datetime as dt\n"
   ]
  },
  {
   "cell_type": "code",
   "execution_count": 2,
   "id": "d7693fbc",
   "metadata": {},
   "outputs": [],
   "source": [
    "cust=pd.read_csv(r'C:\\Users\\Sai\\Desktop\\notes\\sowmiya\\Python\\Python Foundation Case Study 3 - Insurance Claims Case Study\\cust_demographics.csv')"
   ]
  },
  {
   "cell_type": "code",
   "execution_count": 3,
   "id": "d89c5bbb",
   "metadata": {},
   "outputs": [],
   "source": [
    "claims = pd.read_csv(r'C:\\Users\\Sai\\Desktop\\notes\\sowmiya\\Python\\Python Foundation Case Study 3 - Insurance Claims Case Study\\claims.csv')"
   ]
  },
  {
   "cell_type": "code",
   "execution_count": 4,
   "id": "0dbfd657",
   "metadata": {},
   "outputs": [],
   "source": [
    "data=pd.merge(left=cust,right=claims,left_on=\"CUST_ID\",right_on=\"customer_id\",how=\"left\")"
   ]
  },
  {
   "cell_type": "code",
   "execution_count": 5,
   "id": "6d72244f",
   "metadata": {},
   "outputs": [],
   "source": [
    "data.drop(columns=\"CUST_ID\",inplace=True)"
   ]
  },
  {
   "cell_type": "markdown",
   "id": "d17aef52",
   "metadata": {},
   "source": [
    "# 2. Perform a data audit for the datatypes and find out if there are any  mismatch within the current datatypes of the columns and their business significance"
   ]
  },
  {
   "cell_type": "code",
   "execution_count": 6,
   "id": "edc391a6",
   "metadata": {},
   "outputs": [
    {
     "data": {
      "text/plain": [
       "gender                  object\n",
       "DateOfBirth             object\n",
       "State                   object\n",
       "Contact                 object\n",
       "Segment                 object\n",
       "claim_id               float64\n",
       "customer_id            float64\n",
       "incident_cause          object\n",
       "claim_date              object\n",
       "claim_area              object\n",
       "police_report           object\n",
       "claim_type              object\n",
       "claim_amount            object\n",
       "total_policy_claims    float64\n",
       "fraudulent              object\n",
       "dtype: object"
      ]
     },
     "execution_count": 6,
     "metadata": {},
     "output_type": "execute_result"
    }
   ],
   "source": [
    "data.dtypes"
   ]
  },
  {
   "cell_type": "code",
   "execution_count": 7,
   "id": "5729a7b1",
   "metadata": {},
   "outputs": [],
   "source": [
    "#dateof birth , claim_date , claim_amount should be of date and float\n",
    "\n",
    "data.DateOfBirth=pd.to_datetime(data.DateOfBirth,format='%d-%b-%y')\n",
    "data.claim_date=pd.to_datetime(data.claim_date,format='%m/%d/%Y')\n",
    "\n"
   ]
  },
  {
   "cell_type": "markdown",
   "id": "468c33eb",
   "metadata": {},
   "source": [
    "# Convert the column claim_amount to numeric. Use the appropriate modules/attributes to remove the $ sign"
   ]
  },
  {
   "cell_type": "code",
   "execution_count": 8,
   "id": "2ac44729",
   "metadata": {},
   "outputs": [],
   "source": [
    "data.claim_amount=np.float32(data.claim_amount.str[1:])"
   ]
  },
  {
   "cell_type": "markdown",
   "id": "05bb9640",
   "metadata": {},
   "source": [
    "# 4.Of all the injury claims, some of them have gone unreported with the police. Create an alert flag (1,0) for all such claims.\n"
   ]
  },
  {
   "cell_type": "code",
   "execution_count": 9,
   "id": "8134ebe4",
   "metadata": {},
   "outputs": [],
   "source": [
    "data['alert_flag']=np.where(data.police_report == 'Yes',0,1)"
   ]
  },
  {
   "cell_type": "markdown",
   "id": "476a69e1",
   "metadata": {},
   "source": [
    "# 5.One customer can claim for insurance more than once and in each claim,multiple categories of claims can be involved. However, customer ID should remain unique. "
   ]
  },
  {
   "cell_type": "code",
   "execution_count": 10,
   "id": "38ff3ac4",
   "metadata": {},
   "outputs": [],
   "source": [
    "#Retain the most recent observation and delete any duplicated records in\n",
    "#the data based on the customer ID column"
   ]
  },
  {
   "cell_type": "code",
   "execution_count": 11,
   "id": "d58b6f91",
   "metadata": {},
   "outputs": [],
   "source": [
    "data.drop_duplicates(keep='last',subset='customer_id',inplace=True)"
   ]
  },
  {
   "cell_type": "code",
   "execution_count": 12,
   "id": "f1089bfd",
   "metadata": {},
   "outputs": [],
   "source": [
    "data.reset_index(inplace=True)"
   ]
  },
  {
   "cell_type": "markdown",
   "id": "42603f56",
   "metadata": {},
   "source": [
    "# 6 Check for missing values and impute the missing values with an appropriate value. (mean for continuous and mode for categorical"
   ]
  },
  {
   "cell_type": "code",
   "execution_count": 14,
   "id": "0bd5a01b",
   "metadata": {},
   "outputs": [
    {
     "data": {
      "text/plain": [
       "[None, None, None, None, None, None, None, None, None]"
      ]
     },
     "execution_count": 14,
     "metadata": {},
     "output_type": "execute_result"
    }
   ],
   "source": [
    "categorical=data.select_dtypes('object').columns\n",
    "[data[i].fillna(data[i].mode()[0],inplace=True) for i in categorical]"
   ]
  },
  {
   "cell_type": "code",
   "execution_count": 15,
   "id": "cb75e983",
   "metadata": {},
   "outputs": [
    {
     "data": {
      "text/plain": [
       "Index(['index', 'claim_id', 'customer_id', 'claim_amount',\n",
       "       'total_policy_claims', 'alert_flag'],\n",
       "      dtype='object')"
      ]
     },
     "execution_count": 15,
     "metadata": {},
     "output_type": "execute_result"
    }
   ],
   "source": [
    "countinous = data.select_dtypes('number').columns\n",
    "countinous"
   ]
  },
  {
   "cell_type": "code",
   "execution_count": 16,
   "id": "d42ebdcb",
   "metadata": {},
   "outputs": [],
   "source": [
    "#claim_id,customer_id is unique so droped the fields which is not having those\n",
    "data.dropna(subset=['customer_id','claim_id'],inplace=True)"
   ]
  },
  {
   "cell_type": "code",
   "execution_count": 17,
   "id": "43d11ec4",
   "metadata": {},
   "outputs": [
    {
     "data": {
      "text/plain": [
       "[None, None, None, None, None, None]"
      ]
     },
     "execution_count": 17,
     "metadata": {},
     "output_type": "execute_result"
    }
   ],
   "source": [
    "[data[i].fillna(data[i].mean(),inplace=True) for i in countinous]"
   ]
  },
  {
   "cell_type": "code",
   "execution_count": 18,
   "id": "d276da8f",
   "metadata": {},
   "outputs": [
    {
     "data": {
      "text/plain": [
       "index                  0\n",
       "gender                 0\n",
       "DateOfBirth            0\n",
       "State                  0\n",
       "Contact                0\n",
       "Segment                0\n",
       "claim_id               0\n",
       "customer_id            0\n",
       "incident_cause         0\n",
       "claim_date             0\n",
       "claim_area             0\n",
       "police_report          0\n",
       "claim_type             0\n",
       "claim_amount           0\n",
       "total_policy_claims    0\n",
       "fraudulent             0\n",
       "alert_flag             0\n",
       "dtype: int64"
      ]
     },
     "execution_count": 18,
     "metadata": {},
     "output_type": "execute_result"
    }
   ],
   "source": [
    "data.isna().sum()"
   ]
  },
  {
   "cell_type": "markdown",
   "id": "43a4f2fa",
   "metadata": {},
   "source": [
    "# 7. Calculate the age of customers in years. Based on the age, categorize thecustomers according to the below criteria\n",
    "Children < 18\n",
    "Youth 18-30\n",
    "Adult 30-60\n",
    "Senior > 60"
   ]
  },
  {
   "cell_type": "code",
   "execution_count": 19,
   "id": "ae1b6c64",
   "metadata": {},
   "outputs": [],
   "source": [
    "data['age']=data.DateOfBirth.dt.year-dt.datetime.now().year"
   ]
  },
  {
   "cell_type": "code",
   "execution_count": 20,
   "id": "f7fe6f21",
   "metadata": {},
   "outputs": [],
   "source": [
    "data['age']=abs(data['age'])"
   ]
  },
  {
   "cell_type": "code",
   "execution_count": 21,
   "id": "f823215c",
   "metadata": {},
   "outputs": [],
   "source": [
    "data['AgeGroup']=np.where(((data['age']<18) & (data['age']>0)),'Youth',np.where(((data['age']>=18) & (data['age']<=30)),'Adult','Senior') )"
   ]
  },
  {
   "cell_type": "markdown",
   "id": "364117ab",
   "metadata": {},
   "source": [
    "# 8. What is the average amount claimed by the customers from various segments?"
   ]
  },
  {
   "cell_type": "code",
   "execution_count": 22,
   "id": "20724578",
   "metadata": {},
   "outputs": [
    {
     "data": {
      "text/html": [
       "<div>\n",
       "<style scoped>\n",
       "    .dataframe tbody tr th:only-of-type {\n",
       "        vertical-align: middle;\n",
       "    }\n",
       "\n",
       "    .dataframe tbody tr th {\n",
       "        vertical-align: top;\n",
       "    }\n",
       "\n",
       "    .dataframe thead th {\n",
       "        text-align: right;\n",
       "    }\n",
       "</style>\n",
       "<table border=\"1\" class=\"dataframe\">\n",
       "  <thead>\n",
       "    <tr style=\"text-align: right;\">\n",
       "      <th></th>\n",
       "      <th>claim_amount</th>\n",
       "    </tr>\n",
       "    <tr>\n",
       "      <th>Segment</th>\n",
       "      <th></th>\n",
       "    </tr>\n",
       "  </thead>\n",
       "  <tbody>\n",
       "    <tr>\n",
       "      <th>Gold</th>\n",
       "      <td>12846.386719</td>\n",
       "    </tr>\n",
       "    <tr>\n",
       "      <th>Platinum</th>\n",
       "      <td>12371.645508</td>\n",
       "    </tr>\n",
       "    <tr>\n",
       "      <th>Silver</th>\n",
       "      <td>12267.146484</td>\n",
       "    </tr>\n",
       "  </tbody>\n",
       "</table>\n",
       "</div>"
      ],
      "text/plain": [
       "          claim_amount\n",
       "Segment               \n",
       "Gold      12846.386719\n",
       "Platinum  12371.645508\n",
       "Silver    12267.146484"
      ]
     },
     "execution_count": 22,
     "metadata": {},
     "output_type": "execute_result"
    }
   ],
   "source": [
    "data.pivot_table(index='Segment',values='claim_amount')"
   ]
  },
  {
   "cell_type": "markdown",
   "id": "6342e61d",
   "metadata": {},
   "source": [
    "# 9. What is the total claim amount based on incident cause for all the claimsthat have been done at least 20 days prior to 1st of October, 2018.\n"
   ]
  },
  {
   "cell_type": "code",
   "execution_count": 53,
   "id": "46baded9",
   "metadata": {},
   "outputs": [
    {
     "data": {
      "text/plain": [
       "11913022.0"
      ]
     },
     "execution_count": 53,
     "metadata": {},
     "output_type": "execute_result"
    }
   ],
   "source": [
    "data.sample()\n",
    "\n",
    "least_date=dt.datetime.strptime(\"2018-09-01\",'%Y-%m-%d')-dt.timedelta(days=20)\n",
    "least_date\n",
    "data[data['claim_date'] < least_date].groupby('incident_cause')['claim_amount'].sum().sum()\n"
   ]
  },
  {
   "cell_type": "markdown",
   "id": "7c14bdf5",
   "metadata": {},
   "source": [
    "# 10. How many adults from TX, DE and AK claimed insurance for driver related issues and causes?"
   ]
  },
  {
   "cell_type": "code",
   "execution_count": null,
   "id": "d3fd1664",
   "metadata": {},
   "outputs": [],
   "source": [
    "len(data.loc[((data.State =='TX')|(data.State =='DE')|(data.State =='AK'))& (data.incident_cause.str.lower().str.contains('driver')) & (data.AgeGroup=='Adult')])"
   ]
  },
  {
   "cell_type": "markdown",
   "id": "0b3d0c33",
   "metadata": {},
   "source": [
    "# 11. Draw a pie chart between the aggregated value of claim amount based on gender and segment. Represent the claim amount as a percentage onthe pie chart."
   ]
  },
  {
   "cell_type": "code",
   "execution_count": null,
   "id": "8094168e",
   "metadata": {},
   "outputs": [],
   "source": [
    "data.pivot_table(index='Segment',values='claim_amount',columns='gender').plot(kind='pie',subplots=True, autopct='%.1f%%',legend=False)"
   ]
  },
  {
   "cell_type": "markdown",
   "id": "cf68ce20",
   "metadata": {},
   "source": [
    "# 12 .Among males and females, which gender had claimed the most for any type of driver related issues? E.g. This metric can be compared using a bar chart"
   ]
  },
  {
   "cell_type": "code",
   "execution_count": null,
   "id": "a4d79984",
   "metadata": {},
   "outputs": [],
   "source": [
    "driver_issues=data.loc[data['incident_cause'].str.lower().str.contains('driver')]"
   ]
  },
  {
   "cell_type": "code",
   "execution_count": null,
   "id": "637fe23b",
   "metadata": {},
   "outputs": [],
   "source": [
    "driver_issues.pivot_table(index='gender',values='incident_cause',aggfunc='count').plot(kind='bar')"
   ]
  },
  {
   "cell_type": "markdown",
   "id": "86c07755",
   "metadata": {},
   "source": [
    "# 13. Which age group had the maximum fraudulent policy claims? Visualize it on a bar chart."
   ]
  },
  {
   "cell_type": "code",
   "execution_count": null,
   "id": "5afa5b66",
   "metadata": {},
   "outputs": [],
   "source": [
    "data[data['fraudulent']=='Yes'].groupby('AgeGroup')['AgeGroup'].count().plot(kind='barh')"
   ]
  },
  {
   "cell_type": "markdown",
   "id": "86d39ef8",
   "metadata": {},
   "source": [
    "# 14.Visualize the monthly trend of the total amount that has been claimed by the customers. Ensure that on the “month” axis, the month is in a chronological order not alphabetical order."
   ]
  },
  {
   "cell_type": "code",
   "execution_count": null,
   "id": "153e18be",
   "metadata": {},
   "outputs": [],
   "source": [
    "data['claim_month']=data['claim_date'].dt.month"
   ]
  },
  {
   "cell_type": "code",
   "execution_count": null,
   "id": "f45b5037",
   "metadata": {},
   "outputs": [],
   "source": [
    "data.pivot_table(index='claim_month',values='claim_amount',aggfunc='sum').plot(kind='line')"
   ]
  },
  {
   "cell_type": "markdown",
   "id": "ebb80ffd",
   "metadata": {},
   "source": [
    "# 15.What is the average claim amount for gender and age categories and suitably represent the above using a facetted bar chart, one facet that represents fraudulent claims and the other for non-fraudulent claims."
   ]
  },
  {
   "cell_type": "code",
   "execution_count": null,
   "id": "1e0e4df4",
   "metadata": {},
   "outputs": [],
   "source": [
    "data.pivot_table(index='gender',columns='fraudulent',values='claim_amount').plot(kind='bar')"
   ]
  },
  {
   "cell_type": "markdown",
   "id": "f5c02dbc",
   "metadata": {},
   "source": [
    "Based on the conclusions from exploratory analysis as well as suitable \n",
    "statistical tests, answer the below questions. Please include a detailed \n",
    "write-up on the parameters taken into consideration, the Hypothesis \n",
    "testing steps, conclusion from the p-values and the business implications of \n",
    "the statements."
   ]
  },
  {
   "cell_type": "markdown",
   "id": "72812ed3",
   "metadata": {},
   "source": [
    "# 16.Is there any similarity in the amount claimed by males and females"
   ]
  },
  {
   "cell_type": "code",
   "execution_count": null,
   "id": "e13f9429",
   "metadata": {},
   "outputs": [],
   "source": [
    "import scipy.stats as st\n"
   ]
  },
  {
   "cell_type": "code",
   "execution_count": null,
   "id": "38984b4e",
   "metadata": {},
   "outputs": [],
   "source": [
    "# Two sample t-test:\n",
    "# Data values must be independent. Measurements for one observation do not affect measurements for any other observation.\n",
    "# Data in each group must be obtained via a random sample from the population.\n",
    "# Data in each group are normally distributed.\n",
    "# Data values are continuous.\n",
    "# The variances for the two independent groups are equal.\n",
    "import scipy.stats as st\n",
    "female = df['claim_amount'].loc[df['gender']==\"Female\"]\n",
    "male = df['claim_amount'].loc[df['gender']==\"Male\"]\n",
    "st.ttest_ind(female, male, equal_var=False)\n",
    "# As the significance value of t test is greater than 0.05 we can safely conclude that there is a similarity in amount claimed by males and females."
   ]
  },
  {
   "cell_type": "markdown",
   "id": "028b8ac2",
   "metadata": {},
   "source": [
    "# 17.Is there any relationship between age category and segment"
   ]
  },
  {
   "cell_type": "code",
   "execution_count": null,
   "id": "44030073",
   "metadata": {},
   "outputs": [],
   "source": [
    "# 17. Is there any relationship between age category and segment?\n",
    "# Chi Square test:\n",
    "# H0 = No relation between category and segment\n",
    "# Ha = There is a relationship between category and segment\n",
    "c = pd.crosstab(data.AgeGroup, data.Segment, margins = True)\n",
    "st.chi2_contingency(observed= c)\n",
    "# Since the significance value of the test is greter than 0.05, we fail reject the null hypothesis. Therefore there is no relationship between age and segment"
   ]
  },
  {
   "cell_type": "code",
   "execution_count": null,
   "id": "4f07d5e2",
   "metadata": {},
   "outputs": [],
   "source": [
    "# 18. The current year has shown a significant rise in claim amounts as compared to 2016-17 fiscal average which was $10,000.\n",
    "# Correlation\n",
    "data['year'] = pd.DatetimeIndex(data.claim_date).year\n",
    "CY = data.loc[data.year == 2018][\"claim_amount\"]\n",
    "PY = data.loc[data.year == 2017][\"claim_amount\"]\n",
    "CY.corr(other= PY)\n",
    "# There is no correlation between Current Year and Previous year"
   ]
  },
  {
   "cell_type": "code",
   "execution_count": null,
   "id": "2d07505f",
   "metadata": {},
   "outputs": [],
   "source": [
    "# 19. Is there any difference between age groups and insurance claims?\n",
    "# ANOVA:\n",
    "# H0 = No relation between category and segment\n",
    "# Ha = There is a relationship between category and segment\n",
    "a1 = data['total_policy_claims'].loc[data['AgeGroup']==\"Senior\"]\n",
    "a2 = data['total_policy_claims'].loc[data['AgeGroup']==\"Adult\"]\n",
    "st.f_oneway(a1,a2)\n",
    "# Since the significance value of the test is greater than 0.05, we fail reject the null hypothesis.there is no difference between age group and insurance claims"
   ]
  },
  {
   "cell_type": "code",
   "execution_count": null,
   "id": "5bf92750",
   "metadata": {},
   "outputs": [],
   "source": [
    "# 20. Is there any relationship between total number of policy claims and the claimed amount?\n",
    "# Correlation\n",
    "data.total_policy_claims.corr(other= data.claim_amount)\n",
    "# As the correlation is negative the number of policy claims in inversely propotional to the claimed amount."
   ]
  },
  {
   "cell_type": "code",
   "execution_count": null,
   "id": "d3561c0e",
   "metadata": {},
   "outputs": [],
   "source": []
  }
 ],
 "metadata": {
  "kernelspec": {
   "display_name": "Python 3 (ipykernel)",
   "language": "python",
   "name": "python3"
  },
  "language_info": {
   "codemirror_mode": {
    "name": "ipython",
    "version": 3
   },
   "file_extension": ".py",
   "mimetype": "text/x-python",
   "name": "python",
   "nbconvert_exporter": "python",
   "pygments_lexer": "ipython3",
   "version": "3.9.13"
  }
 },
 "nbformat": 4,
 "nbformat_minor": 5
}
