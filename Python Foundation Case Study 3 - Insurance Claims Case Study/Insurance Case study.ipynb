{
 "cells": [
  {
   "cell_type": "code",
   "execution_count": 1,
   "id": "71d6799c",
   "metadata": {},
   "outputs": [],
   "source": [
    "import numpy as np\n",
    "import pandas as pd"
   ]
  },
  {
   "cell_type": "code",
   "execution_count": 2,
   "id": "e3886d25",
   "metadata": {},
   "outputs": [],
   "source": [
    "cust=pd.read_csv(r'C:\\Users\\Sai\\Desktop\\notes\\sowmiya\\Python\\Python Foundation Case Study 3 - Insurance Claims Case Study\\cust_demographics.csv')"
   ]
  },
  {
   "cell_type": "code",
   "execution_count": 3,
   "id": "6618258c",
   "metadata": {},
   "outputs": [],
   "source": [
    "claims = pd.read_csv(r'C:\\Users\\Sai\\Desktop\\notes\\sowmiya\\Python\\Python Foundation Case Study 3 - Insurance Claims Case Study\\claims.csv')"
   ]
  },
  {
   "cell_type": "code",
   "execution_count": 4,
   "id": "398b5094",
   "metadata": {},
   "outputs": [],
   "source": [
    "data=pd.merge(left=cust,right=claims,left_on=\"CUST_ID\",right_on=\"customer_id\",how=\"left\")"
   ]
  },
  {
   "cell_type": "code",
   "execution_count": 5,
   "id": "ce9ee6b7",
   "metadata": {},
   "outputs": [
    {
     "data": {
      "text/html": [
       "<div>\n",
       "<style scoped>\n",
       "    .dataframe tbody tr th:only-of-type {\n",
       "        vertical-align: middle;\n",
       "    }\n",
       "\n",
       "    .dataframe tbody tr th {\n",
       "        vertical-align: top;\n",
       "    }\n",
       "\n",
       "    .dataframe thead th {\n",
       "        text-align: right;\n",
       "    }\n",
       "</style>\n",
       "<table border=\"1\" class=\"dataframe\">\n",
       "  <thead>\n",
       "    <tr style=\"text-align: right;\">\n",
       "      <th></th>\n",
       "      <th>CUST_ID</th>\n",
       "      <th>gender</th>\n",
       "      <th>DateOfBirth</th>\n",
       "      <th>State</th>\n",
       "      <th>Contact</th>\n",
       "      <th>Segment</th>\n",
       "      <th>claim_id</th>\n",
       "      <th>customer_id</th>\n",
       "      <th>incident_cause</th>\n",
       "      <th>claim_date</th>\n",
       "      <th>claim_area</th>\n",
       "      <th>police_report</th>\n",
       "      <th>claim_type</th>\n",
       "      <th>claim_amount</th>\n",
       "      <th>total_policy_claims</th>\n",
       "      <th>fraudulent</th>\n",
       "    </tr>\n",
       "  </thead>\n",
       "  <tbody>\n",
       "    <tr>\n",
       "      <th>885</th>\n",
       "      <td>73869005</td>\n",
       "      <td>Female</td>\n",
       "      <td>01-Jul-64</td>\n",
       "      <td>WV</td>\n",
       "      <td>695-428-9762</td>\n",
       "      <td>Gold</td>\n",
       "      <td>39893971.0</td>\n",
       "      <td>73869005.0</td>\n",
       "      <td>Other driver error</td>\n",
       "      <td>08/18/2017</td>\n",
       "      <td>Auto</td>\n",
       "      <td>No</td>\n",
       "      <td>Material only</td>\n",
       "      <td>$2100</td>\n",
       "      <td>3.0</td>\n",
       "      <td>No</td>\n",
       "    </tr>\n",
       "  </tbody>\n",
       "</table>\n",
       "</div>"
      ],
      "text/plain": [
       "      CUST_ID  gender DateOfBirth State       Contact Segment    claim_id  \\\n",
       "885  73869005  Female   01-Jul-64    WV  695-428-9762    Gold  39893971.0   \n",
       "\n",
       "     customer_id      incident_cause  claim_date claim_area police_report  \\\n",
       "885   73869005.0  Other driver error  08/18/2017       Auto            No   \n",
       "\n",
       "        claim_type claim_amount  total_policy_claims fraudulent  \n",
       "885  Material only        $2100                  3.0         No  "
      ]
     },
     "execution_count": 5,
     "metadata": {},
     "output_type": "execute_result"
    }
   ],
   "source": [
    "data.sample()"
   ]
  },
  {
   "cell_type": "code",
   "execution_count": 6,
   "id": "0dd3d05e",
   "metadata": {},
   "outputs": [],
   "source": [
    "data.drop(columns=\"CUST_ID\",inplace=True)"
   ]
  },
  {
   "cell_type": "markdown",
   "id": "b1ce6825",
   "metadata": {},
   "source": [
    "Perform a data audit for the datatypes and find out if there are any \n",
    "mismatch within the current datatypes of the columns and their \n",
    "business significance."
   ]
  },
  {
   "cell_type": "code",
   "execution_count": 7,
   "id": "91d7e4ad",
   "metadata": {},
   "outputs": [
    {
     "data": {
      "text/plain": [
       "gender                  object\n",
       "DateOfBirth             object\n",
       "State                   object\n",
       "Contact                 object\n",
       "Segment                 object\n",
       "claim_id               float64\n",
       "customer_id            float64\n",
       "incident_cause          object\n",
       "claim_date              object\n",
       "claim_area              object\n",
       "police_report           object\n",
       "claim_type              object\n",
       "claim_amount            object\n",
       "total_policy_claims    float64\n",
       "fraudulent              object\n",
       "dtype: object"
      ]
     },
     "execution_count": 7,
     "metadata": {},
     "output_type": "execute_result"
    }
   ],
   "source": [
    "data.dtypes"
   ]
  },
  {
   "cell_type": "code",
   "execution_count": 8,
   "id": "4d9cbf96",
   "metadata": {},
   "outputs": [],
   "source": [
    "data['claim_date']=pd.to_datetime(data.claim_date,format='%m/%d/%Y')"
   ]
  },
  {
   "cell_type": "markdown",
   "id": "20496b78",
   "metadata": {},
   "source": [
    "Convert the column claim_amount to numeric. Use the appropriate \n",
    "modules/attributes to remove the $ sign"
   ]
  },
  {
   "cell_type": "code",
   "execution_count": 9,
   "id": "5210f763",
   "metadata": {},
   "outputs": [],
   "source": [
    "data['claim_amount']=data['claim_amount'].str[1:]"
   ]
  },
  {
   "cell_type": "code",
   "execution_count": 10,
   "id": "9a65ce50",
   "metadata": {},
   "outputs": [],
   "source": [
    "data['claim_amount']=data['claim_amount'].astype(np.float64)\n"
   ]
  },
  {
   "cell_type": "markdown",
   "id": "c899079b",
   "metadata": {},
   "source": [
    "Of all the injury claims, some of them have gone unreported with the \n",
    "police. Create an alert flag (1,0) for all such claims."
   ]
  },
  {
   "cell_type": "code",
   "execution_count": 11,
   "id": "7eaf6e30",
   "metadata": {},
   "outputs": [],
   "source": [
    "data['alert_flag']=np.where(((data['police_report']=='No') | (data['police_report']=='Unknown')) & (data['claim_type']=='Injury only'),1,0)"
   ]
  },
  {
   "cell_type": "markdown",
   "id": "ae981452",
   "metadata": {},
   "source": [
    "One customer can claim for insurance more than once and in each claim,\n",
    "multiple categories of claims can be involved. However, customer ID \n",
    "should remain unique. \n",
    "Retain the most recent observation and delete any duplicated records in\n",
    "the data based on the customer ID column"
   ]
  },
  {
   "cell_type": "code",
   "execution_count": 12,
   "id": "daa58cdc",
   "metadata": {},
   "outputs": [],
   "source": [
    "data.drop_duplicates(subset='customer_id',keep='last',inplace=True)"
   ]
  },
  {
   "cell_type": "markdown",
   "id": "d524a9a8",
   "metadata": {},
   "source": [
    "Check for missing values and impute the missing values with an \n",
    "appropriate value. (mean for continuous and mode for categorica"
   ]
  },
  {
   "cell_type": "code",
   "execution_count": 13,
   "id": "88fc89eb",
   "metadata": {},
   "outputs": [
    {
     "data": {
      "text/plain": [
       "Index(['gender', 'DateOfBirth', 'State', 'Contact', 'Segment',\n",
       "       'incident_cause', 'claim_area', 'police_report', 'claim_type',\n",
       "       'fraudulent'],\n",
       "      dtype='object')"
      ]
     },
     "execution_count": 13,
     "metadata": {},
     "output_type": "execute_result"
    }
   ],
   "source": [
    "categorical=data.select_dtypes('object').columns\n",
    "categorical"
   ]
  },
  {
   "cell_type": "code",
   "execution_count": 14,
   "id": "fef3ac2a",
   "metadata": {},
   "outputs": [
    {
     "data": {
      "text/plain": [
       "[None, None, None, None, None, None, None, None, None, None]"
      ]
     },
     "execution_count": 14,
     "metadata": {},
     "output_type": "execute_result"
    }
   ],
   "source": [
    "[data[i].fillna(data[i].mode()[0],inplace=True) for i in categorical]"
   ]
  },
  {
   "cell_type": "code",
   "execution_count": 15,
   "id": "97cd87eb",
   "metadata": {},
   "outputs": [
    {
     "data": {
      "text/plain": [
       "[None, None, None, None, None]"
      ]
     },
     "execution_count": 15,
     "metadata": {},
     "output_type": "execute_result"
    }
   ],
   "source": [
    "numerical =data.select_dtypes('number').columns\n",
    "[data[i].fillna(data[i].mean(),inplace=True) for i in numerical]\n"
   ]
  },
  {
   "cell_type": "code",
   "execution_count": 16,
   "id": "003505f3",
   "metadata": {},
   "outputs": [],
   "source": [
    "data.drop_duplicates(subset='customer_id',keep='last',inplace=True)"
   ]
  },
  {
   "cell_type": "markdown",
   "id": "7797e8ea",
   "metadata": {},
   "source": [
    "Calculate the age of customers in years. Based on the age, categorize the\n",
    "customers according to the below criteria\n",
    "Children < 18\n",
    "Youth 18-30\n",
    "Adult 30-60\n",
    "Senior > 60"
   ]
  },
  {
   "cell_type": "code",
   "execution_count": 17,
   "id": "7439a9a9",
   "metadata": {},
   "outputs": [],
   "source": [
    "import datetime as dt\n",
    "data['DateOfBirth']=pd.to_datetime(data['DateOfBirth'],format='%d-%b-%y')"
   ]
  },
  {
   "cell_type": "code",
   "execution_count": 18,
   "id": "1a2eafe8",
   "metadata": {},
   "outputs": [],
   "source": [
    "data['age']=dt.datetime.now().year-data['DateOfBirth'].dt.year"
   ]
  },
  {
   "cell_type": "code",
   "execution_count": 19,
   "id": "d633664c",
   "metadata": {},
   "outputs": [],
   "source": [
    "data['age']=abs(data.age)"
   ]
  },
  {
   "cell_type": "code",
   "execution_count": 20,
   "id": "8671fc51",
   "metadata": {},
   "outputs": [],
   "source": [
    "data['AgeGroup']=np.where(((data['age']<18) & (data['age']>0)),'Youth',np.where(((data['age']>=18) & (data['age']<=30)),'Adult','Senior') )"
   ]
  },
  {
   "cell_type": "markdown",
   "id": "a76d3077",
   "metadata": {},
   "source": [
    "What is the average amount claimed by the customers from various \n",
    "segments?"
   ]
  },
  {
   "cell_type": "code",
   "execution_count": 21,
   "id": "633ac0c3",
   "metadata": {},
   "outputs": [
    {
     "data": {
      "text/html": [
       "<div>\n",
       "<style scoped>\n",
       "    .dataframe tbody tr th:only-of-type {\n",
       "        vertical-align: middle;\n",
       "    }\n",
       "\n",
       "    .dataframe tbody tr th {\n",
       "        vertical-align: top;\n",
       "    }\n",
       "\n",
       "    .dataframe thead th {\n",
       "        text-align: right;\n",
       "    }\n",
       "</style>\n",
       "<table border=\"1\" class=\"dataframe\">\n",
       "  <thead>\n",
       "    <tr style=\"text-align: right;\">\n",
       "      <th></th>\n",
       "      <th>claim_amount</th>\n",
       "    </tr>\n",
       "    <tr>\n",
       "      <th>Segment</th>\n",
       "      <th></th>\n",
       "    </tr>\n",
       "  </thead>\n",
       "  <tbody>\n",
       "    <tr>\n",
       "      <th>Gold</th>\n",
       "      <td>12846.386178</td>\n",
       "    </tr>\n",
       "    <tr>\n",
       "      <th>Platinum</th>\n",
       "      <td>12372.003686</td>\n",
       "    </tr>\n",
       "    <tr>\n",
       "      <th>Silver</th>\n",
       "      <td>12267.146560</td>\n",
       "    </tr>\n",
       "  </tbody>\n",
       "</table>\n",
       "</div>"
      ],
      "text/plain": [
       "          claim_amount\n",
       "Segment               \n",
       "Gold      12846.386178\n",
       "Platinum  12372.003686\n",
       "Silver    12267.146560"
      ]
     },
     "execution_count": 21,
     "metadata": {},
     "output_type": "execute_result"
    }
   ],
   "source": [
    "data.pivot_table(index='Segment',values='claim_amount')"
   ]
  },
  {
   "cell_type": "markdown",
   "id": "b7b1a94d",
   "metadata": {},
   "source": [
    "How many adults from TX, DE and AK claimed insurance for driver \n",
    "related issues and causes"
   ]
  },
  {
   "cell_type": "code",
   "execution_count": 22,
   "id": "17fc26d6",
   "metadata": {},
   "outputs": [
    {
     "data": {
      "text/plain": [
       "7"
      ]
     },
     "execution_count": 22,
     "metadata": {},
     "output_type": "execute_result"
    }
   ],
   "source": [
    "adult_claim_driver=data.loc[((data.State=='AR') | (data.State=='TX')| (data.State=='DE') )&(data.AgeGroup=='Adult')&(data.incident_cause.str.lower().str.contains('driver'))]\n",
    "len(adult_claim_driver)"
   ]
  },
  {
   "cell_type": "markdown",
   "id": "a3b4fc41",
   "metadata": {},
   "source": [
    "Draw a pie chart between the aggregated value of claim amount based \n",
    "on gender and segment. Represent the claim amount as a percentage on\n",
    "the pie chart."
   ]
  },
  {
   "cell_type": "code",
   "execution_count": 23,
   "id": "521aec26",
   "metadata": {},
   "outputs": [],
   "source": [
    "gender_segment=data.pivot_table(index='Segment',values='claim_amount',columns='gender')"
   ]
  },
  {
   "cell_type": "code",
   "execution_count": 24,
   "id": "620e2016",
   "metadata": {},
   "outputs": [],
   "source": [
    "import seaborn as sns"
   ]
  },
  {
   "cell_type": "code",
   "execution_count": 25,
   "id": "639bad33",
   "metadata": {},
   "outputs": [
    {
     "data": {
      "text/plain": [
       "array([<AxesSubplot:ylabel='Female'>, <AxesSubplot:ylabel='Male'>],\n",
       "      dtype=object)"
      ]
     },
     "execution_count": 25,
     "metadata": {},
     "output_type": "execute_result"
    },
    {
     "data": {
      "image/png": "[encoded data removed]",
      "text/plain": [
       "<Figure size 1000x1000 with 2 Axes>"
      ]
     },
     "metadata": {},
     "output_type": "display_data"
    }
   ],
   "source": [
    "gender_segment.plot(kind='pie',subplots=True,legend=False,figsize=(10,10))"
   ]
  },
  {
   "cell_type": "markdown",
   "id": "e4941d40",
   "metadata": {},
   "source": [
    "Among males and females, which gender had claimed the most for any \n",
    "type of driver related issues? E.g. This metric can be compared using a \n",
    "bar chart"
   ]
  },
  {
   "cell_type": "code",
   "execution_count": 26,
   "id": "f6bdf703",
   "metadata": {},
   "outputs": [
    {
     "data": {
      "text/plain": [
       "gender\n",
       "Female    28412.515622\n",
       "Male      28692.930679\n",
       "dtype: float64"
      ]
     },
     "execution_count": 26,
     "metadata": {},
     "output_type": "execute_result"
    },
    {
     "data": {
      "image/png": "[encoded data removed]",
      "text/plain": [
       "<Figure size 640x480 with 1 Axes>"
      ]
     },
     "metadata": {},
     "output_type": "display_data"
    }
   ],
   "source": [
    "gender_driver_issue=data.loc[(data.incident_cause.str.lower().str.contains('driver'))]\n",
    "\n",
    "gender_bar=gender_driver_issue.pivot_table(index='incident_cause',values='claim_amount',columns='gender').sum()\n",
    "gender_bar.plot(kind='bar',ylabel='claim_amount')\n",
    "gender_bar"
   ]
  },
  {
   "cell_type": "markdown",
   "id": "095bfe04",
   "metadata": {},
   "source": [
    " Which age group had the maximum fraudulent policy claims? Visualize \n",
    "it on a bar chart."
   ]
  },
  {
   "cell_type": "code",
   "execution_count": 27,
   "id": "04367312",
   "metadata": {},
   "outputs": [
    {
     "data": {
      "text/html": [
       "<div>\n",
       "<style scoped>\n",
       "    .dataframe tbody tr th:only-of-type {\n",
       "        vertical-align: middle;\n",
       "    }\n",
       "\n",
       "    .dataframe tbody tr th {\n",
       "        vertical-align: top;\n",
       "    }\n",
       "\n",
       "    .dataframe thead th {\n",
       "        text-align: right;\n",
       "    }\n",
       "</style>\n",
       "<table border=\"1\" class=\"dataframe\">\n",
       "  <thead>\n",
       "    <tr style=\"text-align: right;\">\n",
       "      <th></th>\n",
       "      <th>gender</th>\n",
       "      <th>DateOfBirth</th>\n",
       "      <th>State</th>\n",
       "      <th>Contact</th>\n",
       "      <th>Segment</th>\n",
       "      <th>claim_id</th>\n",
       "      <th>customer_id</th>\n",
       "      <th>incident_cause</th>\n",
       "      <th>claim_date</th>\n",
       "      <th>claim_area</th>\n",
       "      <th>police_report</th>\n",
       "      <th>claim_type</th>\n",
       "      <th>claim_amount</th>\n",
       "      <th>total_policy_claims</th>\n",
       "      <th>fraudulent</th>\n",
       "      <th>alert_flag</th>\n",
       "      <th>age</th>\n",
       "      <th>AgeGroup</th>\n",
       "    </tr>\n",
       "  </thead>\n",
       "  <tbody>\n",
       "    <tr>\n",
       "      <th>13</th>\n",
       "      <td>Female</td>\n",
       "      <td>2066-09-09</td>\n",
       "      <td>RI</td>\n",
       "      <td>165-519-4583</td>\n",
       "      <td>Gold</td>\n",
       "      <td>63246959.0</td>\n",
       "      <td>33507197.0</td>\n",
       "      <td>Crime</td>\n",
       "      <td>2017-07-22</td>\n",
       "      <td>Auto</td>\n",
       "      <td>No</td>\n",
       "      <td>Material only</td>\n",
       "      <td>2748.500000</td>\n",
       "      <td>2.0</td>\n",
       "      <td>Yes</td>\n",
       "      <td>0</td>\n",
       "      <td>43</td>\n",
       "      <td>Senior</td>\n",
       "    </tr>\n",
       "    <tr>\n",
       "      <th>14</th>\n",
       "      <td>Female</td>\n",
       "      <td>1985-12-30</td>\n",
       "      <td>KY</td>\n",
       "      <td>764-439-9856</td>\n",
       "      <td>Gold</td>\n",
       "      <td>74165873.0</td>\n",
       "      <td>99103685.0</td>\n",
       "      <td>Other driver error</td>\n",
       "      <td>2018-01-13</td>\n",
       "      <td>Home</td>\n",
       "      <td>No</td>\n",
       "      <td>Material only</td>\n",
       "      <td>1495.000000</td>\n",
       "      <td>1.0</td>\n",
       "      <td>Yes</td>\n",
       "      <td>0</td>\n",
       "      <td>38</td>\n",
       "      <td>Senior</td>\n",
       "    </tr>\n",
       "    <tr>\n",
       "      <th>20</th>\n",
       "      <td>Male</td>\n",
       "      <td>1987-03-15</td>\n",
       "      <td>RI</td>\n",
       "      <td>165-217-1648</td>\n",
       "      <td>Silver</td>\n",
       "      <td>12548447.0</td>\n",
       "      <td>1407979.0</td>\n",
       "      <td>Driver error</td>\n",
       "      <td>2018-06-03</td>\n",
       "      <td>Auto</td>\n",
       "      <td>Unknown</td>\n",
       "      <td>Material only</td>\n",
       "      <td>3208.500000</td>\n",
       "      <td>1.0</td>\n",
       "      <td>Yes</td>\n",
       "      <td>0</td>\n",
       "      <td>36</td>\n",
       "      <td>Senior</td>\n",
       "    </tr>\n",
       "    <tr>\n",
       "      <th>37</th>\n",
       "      <td>Female</td>\n",
       "      <td>1988-09-03</td>\n",
       "      <td>NY</td>\n",
       "      <td>493-937-8297</td>\n",
       "      <td>Platinum</td>\n",
       "      <td>16773361.0</td>\n",
       "      <td>70459181.0</td>\n",
       "      <td>Other driver error</td>\n",
       "      <td>2017-10-10</td>\n",
       "      <td>Auto</td>\n",
       "      <td>No</td>\n",
       "      <td>Material only</td>\n",
       "      <td>2725.500000</td>\n",
       "      <td>1.0</td>\n",
       "      <td>Yes</td>\n",
       "      <td>0</td>\n",
       "      <td>35</td>\n",
       "      <td>Senior</td>\n",
       "    </tr>\n",
       "    <tr>\n",
       "      <th>51</th>\n",
       "      <td>Female</td>\n",
       "      <td>1993-06-09</td>\n",
       "      <td>MA</td>\n",
       "      <td>328-683-8359</td>\n",
       "      <td>Gold</td>\n",
       "      <td>28636278.0</td>\n",
       "      <td>31012778.0</td>\n",
       "      <td>Other causes</td>\n",
       "      <td>2018-03-01</td>\n",
       "      <td>Auto</td>\n",
       "      <td>No</td>\n",
       "      <td>Material only</td>\n",
       "      <td>12501.489635</td>\n",
       "      <td>5.0</td>\n",
       "      <td>Yes</td>\n",
       "      <td>0</td>\n",
       "      <td>30</td>\n",
       "      <td>Adult</td>\n",
       "    </tr>\n",
       "    <tr>\n",
       "      <th>...</th>\n",
       "      <td>...</td>\n",
       "      <td>...</td>\n",
       "      <td>...</td>\n",
       "      <td>...</td>\n",
       "      <td>...</td>\n",
       "      <td>...</td>\n",
       "      <td>...</td>\n",
       "      <td>...</td>\n",
       "      <td>...</td>\n",
       "      <td>...</td>\n",
       "      <td>...</td>\n",
       "      <td>...</td>\n",
       "      <td>...</td>\n",
       "      <td>...</td>\n",
       "      <td>...</td>\n",
       "      <td>...</td>\n",
       "      <td>...</td>\n",
       "      <td>...</td>\n",
       "    </tr>\n",
       "    <tr>\n",
       "      <th>1069</th>\n",
       "      <td>Female</td>\n",
       "      <td>1980-05-18</td>\n",
       "      <td>TN</td>\n",
       "      <td>891-651-8671</td>\n",
       "      <td>Gold</td>\n",
       "      <td>85546357.0</td>\n",
       "      <td>90217818.0</td>\n",
       "      <td>Other driver error</td>\n",
       "      <td>2017-06-04</td>\n",
       "      <td>Auto</td>\n",
       "      <td>No</td>\n",
       "      <td>Injury only</td>\n",
       "      <td>37743.000000</td>\n",
       "      <td>1.0</td>\n",
       "      <td>Yes</td>\n",
       "      <td>1</td>\n",
       "      <td>43</td>\n",
       "      <td>Senior</td>\n",
       "    </tr>\n",
       "    <tr>\n",
       "      <th>1070</th>\n",
       "      <td>Female</td>\n",
       "      <td>1975-01-18</td>\n",
       "      <td>TX</td>\n",
       "      <td>189-276-3957</td>\n",
       "      <td>Platinum</td>\n",
       "      <td>67763980.0</td>\n",
       "      <td>70708127.0</td>\n",
       "      <td>Natural causes</td>\n",
       "      <td>2018-09-19</td>\n",
       "      <td>Auto</td>\n",
       "      <td>No</td>\n",
       "      <td>Material only</td>\n",
       "      <td>1150.000000</td>\n",
       "      <td>1.0</td>\n",
       "      <td>Yes</td>\n",
       "      <td>0</td>\n",
       "      <td>48</td>\n",
       "      <td>Senior</td>\n",
       "    </tr>\n",
       "    <tr>\n",
       "      <th>1073</th>\n",
       "      <td>Female</td>\n",
       "      <td>1984-10-09</td>\n",
       "      <td>OH</td>\n",
       "      <td>592-192-8417</td>\n",
       "      <td>Gold</td>\n",
       "      <td>15231655.0</td>\n",
       "      <td>81526763.0</td>\n",
       "      <td>Other causes</td>\n",
       "      <td>2017-02-03</td>\n",
       "      <td>Auto</td>\n",
       "      <td>Unknown</td>\n",
       "      <td>Material only</td>\n",
       "      <td>2323.000000</td>\n",
       "      <td>3.0</td>\n",
       "      <td>Yes</td>\n",
       "      <td>0</td>\n",
       "      <td>39</td>\n",
       "      <td>Senior</td>\n",
       "    </tr>\n",
       "    <tr>\n",
       "      <th>1075</th>\n",
       "      <td>Male</td>\n",
       "      <td>1975-09-02</td>\n",
       "      <td>WI</td>\n",
       "      <td>214-457-4352</td>\n",
       "      <td>Gold</td>\n",
       "      <td>57326503.0</td>\n",
       "      <td>29854604.0</td>\n",
       "      <td>Other driver error</td>\n",
       "      <td>2018-07-20</td>\n",
       "      <td>Auto</td>\n",
       "      <td>No</td>\n",
       "      <td>Material and injury</td>\n",
       "      <td>44033.500000</td>\n",
       "      <td>1.0</td>\n",
       "      <td>Yes</td>\n",
       "      <td>0</td>\n",
       "      <td>48</td>\n",
       "      <td>Senior</td>\n",
       "    </tr>\n",
       "    <tr>\n",
       "      <th>1086</th>\n",
       "      <td>Male</td>\n",
       "      <td>2062-08-21</td>\n",
       "      <td>NV</td>\n",
       "      <td>761-193-2346</td>\n",
       "      <td>Platinum</td>\n",
       "      <td>72025178.0</td>\n",
       "      <td>46850495.0</td>\n",
       "      <td>Other causes</td>\n",
       "      <td>2017-11-27</td>\n",
       "      <td>Auto</td>\n",
       "      <td>Yes</td>\n",
       "      <td>Material only</td>\n",
       "      <td>2173.500000</td>\n",
       "      <td>1.0</td>\n",
       "      <td>Yes</td>\n",
       "      <td>0</td>\n",
       "      <td>39</td>\n",
       "      <td>Senior</td>\n",
       "    </tr>\n",
       "  </tbody>\n",
       "</table>\n",
       "<p>245 rows × 18 columns</p>\n",
       "</div>"
      ],
      "text/plain": [
       "      gender DateOfBirth State       Contact   Segment    claim_id  \\\n",
       "13    Female  2066-09-09    RI  165-519-4583      Gold  63246959.0   \n",
       "14    Female  1985-12-30    KY  764-439-9856      Gold  74165873.0   \n",
       "20      Male  1987-03-15    RI  165-217-1648    Silver  12548447.0   \n",
       "37    Female  1988-09-03    NY  493-937-8297  Platinum  16773361.0   \n",
       "51    Female  1993-06-09    MA  328-683-8359      Gold  28636278.0   \n",
       "...      ...         ...   ...           ...       ...         ...   \n",
       "1069  Female  1980-05-18    TN  891-651-8671      Gold  85546357.0   \n",
       "1070  Female  1975-01-18    TX  189-276-3957  Platinum  67763980.0   \n",
       "1073  Female  1984-10-09    OH  592-192-8417      Gold  15231655.0   \n",
       "1075    Male  1975-09-02    WI  214-457-4352      Gold  57326503.0   \n",
       "1086    Male  2062-08-21    NV  761-193-2346  Platinum  72025178.0   \n",
       "\n",
       "      customer_id      incident_cause claim_date claim_area police_report  \\\n",
       "13     33507197.0               Crime 2017-07-22       Auto            No   \n",
       "14     99103685.0  Other driver error 2018-01-13       Home            No   \n",
       "20      1407979.0        Driver error 2018-06-03       Auto       Unknown   \n",
       "37     70459181.0  Other driver error 2017-10-10       Auto            No   \n",
       "51     31012778.0        Other causes 2018-03-01       Auto            No   \n",
       "...           ...                 ...        ...        ...           ...   \n",
       "1069   90217818.0  Other driver error 2017-06-04       Auto            No   \n",
       "1070   70708127.0      Natural causes 2018-09-19       Auto            No   \n",
       "1073   81526763.0        Other causes 2017-02-03       Auto       Unknown   \n",
       "1075   29854604.0  Other driver error 2018-07-20       Auto            No   \n",
       "1086   46850495.0        Other causes 2017-11-27       Auto           Yes   \n",
       "\n",
       "               claim_type  claim_amount  total_policy_claims fraudulent  \\\n",
       "13          Material only   2748.500000                  2.0        Yes   \n",
       "14          Material only   1495.000000                  1.0        Yes   \n",
       "20          Material only   3208.500000                  1.0        Yes   \n",
       "37          Material only   2725.500000                  1.0        Yes   \n",
       "51          Material only  12501.489635                  5.0        Yes   \n",
       "...                   ...           ...                  ...        ...   \n",
       "1069          Injury only  37743.000000                  1.0        Yes   \n",
       "1070        Material only   1150.000000                  1.0        Yes   \n",
       "1073        Material only   2323.000000                  3.0        Yes   \n",
       "1075  Material and injury  44033.500000                  1.0        Yes   \n",
       "1086        Material only   2173.500000                  1.0        Yes   \n",
       "\n",
       "      alert_flag  age AgeGroup  \n",
       "13             0   43   Senior  \n",
       "14             0   38   Senior  \n",
       "20             0   36   Senior  \n",
       "37             0   35   Senior  \n",
       "51             0   30    Adult  \n",
       "...          ...  ...      ...  \n",
       "1069           1   43   Senior  \n",
       "1070           0   48   Senior  \n",
       "1073           0   39   Senior  \n",
       "1075           0   48   Senior  \n",
       "1086           0   39   Senior  \n",
       "\n",
       "[245 rows x 18 columns]"
      ]
     },
     "execution_count": 27,
     "metadata": {},
     "output_type": "execute_result"
    }
   ],
   "source": [
    "data.loc[data.fraudulent == 'Yes']\n"
   ]
  },
  {
   "cell_type": "code",
   "execution_count": null,
   "id": "5da69e02",
   "metadata": {},
   "outputs": [],
   "source": []
  },
  {
   "cell_type": "code",
   "execution_count": null,
   "id": "3fa5319d",
   "metadata": {},
   "outputs": [],
   "source": []
  }
 ],
 "metadata": {
  "kernelspec": {
   "display_name": "Python 3 (ipykernel)",
   "language": "python",
   "name": "python3"
  },
  "language_info": {
   "codemirror_mode": {
    "name": "ipython",
    "version": 3
   },
   "file_extension": ".py",
   "mimetype": "text/x-python",
   "name": "python",
   "nbconvert_exporter": "python",
   "pygments_lexer": "ipython3",
   "version": "3.9.13"
  }
 },
 "nbformat": 4,
 "nbformat_minor": 5
}
